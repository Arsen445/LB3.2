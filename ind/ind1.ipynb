{
 "cells": [
  {
   "cell_type": "markdown",
   "id": "a00dcd2f",
   "metadata": {},
   "source": [
    "# Индивидуальное задание1"
   ]
  },
  {
   "cell_type": "markdown",
   "id": "74d79a54",
   "metadata": {},
   "source": [
    "## Характеристикой столбца целочисленной матрицы назовем сумму модулей его отрицательных нечетных элементов. Переставляя столбцы заданной матрицы, расположить их в соответствий с ростом характеристик. Найти сумму элементов в тех столбцах, которые содержат хотя бы один отрицательный элемент. "
   ]
  },
  {
   "cell_type": "code",
   "execution_count": 1,
   "id": "e2a53c52",
   "metadata": {},
   "outputs": [],
   "source": [
    "import numpy as np"
   ]
  },
  {
   "cell_type": "code",
   "execution_count": 2,
   "id": "9bdd3ae8",
   "metadata": {},
   "outputs": [
    {
     "name": "stdout",
     "output_type": "stream",
     "text": [
      "Исходная матрица:\n",
      " [[-2  4  7 -6  2]\n",
      " [ 6  5  2  8 -9]\n",
      " [ 4 -9 -6  5  9]\n",
      " [-3 -8  6  1 -7]\n",
      " [-5 -7 -6  3  1]]\n"
     ]
    }
   ],
   "source": [
    "# Создаем матрицу размером 5x5 со случайными целыми числами от -9 до 9\n",
    "matrix = np.random.randint(-9, 10, size=(5, 5))\n",
    "print(\"Исходная матрица:\\n\", matrix)"
   ]
  },
  {
   "cell_type": "code",
   "execution_count": 3,
   "id": "e571632d",
   "metadata": {},
   "outputs": [
    {
     "name": "stdout",
     "output_type": "stream",
     "text": [
      "Характеристики столбцов:\n",
      " 36\n"
     ]
    }
   ],
   "source": [
    "# Вычисляем характеристики для каждого столбца\n",
    "characteristics = np.sum(np.abs(matrix[matrix < 0][::2]), axis=0)\n",
    "print(\"Характеристики столбцов:\\n\", characteristics)"
   ]
  },
  {
   "cell_type": "code",
   "execution_count": 4,
   "id": "013a4835",
   "metadata": {},
   "outputs": [
    {
     "name": "stdout",
     "output_type": "stream",
     "text": [
      "Отсортированная матрица:\n",
      " [[-2]\n",
      " [ 6]\n",
      " [ 4]\n",
      " [-3]\n",
      " [-5]]\n"
     ]
    }
   ],
   "source": [
    "# Сортируем столбцы матрицы по возрастанию характеристик\n",
    "sorted_matrix = matrix[:, np.argsort(characteristics)]\n",
    "print(\"Отсортированная матрица:\\n\", sorted_matrix)"
   ]
  },
  {
   "cell_type": "code",
   "execution_count": 5,
   "id": "330887a2",
   "metadata": {},
   "outputs": [
    {
     "name": "stdout",
     "output_type": "stream",
     "text": [
      "Сумма элементов в столбцах с отрицательными элементами: 0\n"
     ]
    }
   ],
   "source": [
    "# Находим сумму элементов в столбцах, содержащих хотя бы один отрицательный элемент\n",
    "sum_negative_columns = np.sum(sorted_matrix[:, np.any(sorted_matrix < 0, axis=0)], axis=0)\n",
    "print(\"Сумма элементов в столбцах с отрицательными элементами:\", sum_negative_columns.sum())"
   ]
  }
 ],
 "metadata": {
  "kernelspec": {
   "display_name": "Python 3 (ipykernel)",
   "language": "python",
   "name": "python3"
  },
  "language_info": {
   "codemirror_mode": {
    "name": "ipython",
    "version": 3
   },
   "file_extension": ".py",
   "mimetype": "text/x-python",
   "name": "python",
   "nbconvert_exporter": "python",
   "pygments_lexer": "ipython3",
   "version": "3.9.13"
  }
 },
 "nbformat": 4,
 "nbformat_minor": 5
}
